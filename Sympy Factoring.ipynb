{
 "cells": [
  {
   "cell_type": "markdown",
   "metadata": {},
   "source": [
    "Factoring Cubed Roots"
   ]
  },
  {
   "cell_type": "code",
   "execution_count": 13,
   "metadata": {},
   "outputs": [
    {
     "name": "stdout",
     "output_type": "stream",
     "text": [
      "5796\n"
     ]
    }
   ],
   "source": [
    "from sympy import symbols\n",
    "from sympy import factor\n",
    "from sympy import expand\n",
    "from sympy import pprint\n",
    "\n",
    "x,y = symbols('x,y')\n",
    "expr = -x**2+10*x-1\n",
    "\n",
    "factors = factor(5796)\n",
    "pprint(factors)"
   ]
  },
  {
   "cell_type": "markdown",
   "metadata": {},
   "source": [
    "Factoring Quadratics"
   ]
  },
  {
   "cell_type": "code",
   "execution_count": 19,
   "metadata": {},
   "outputs": [
    {
     "name": "stdout",
     "output_type": "stream",
     "text": [
      "     2            \n",
      "- 2⋅x  + 24⋅x - 64\n"
     ]
    }
   ],
   "source": [
    "from sympy import symbols\n",
    "from sympy import factor\n",
    "from sympy import expand\n",
    "from sympy import pprint\n",
    "\n",
    "x,y = symbols('x,y')\n",
    "expr = expand(-2*x**2+24*x-64)\n",
    "\n",
    "pprint(expr)"
   ]
  },
  {
   "cell_type": "code",
   "execution_count": 2,
   "metadata": {},
   "outputs": [
    {
     "name": "stdout",
     "output_type": "stream",
     "text": [
      "[5.73861279 0.26138721]\n",
      "64\n"
     ]
    }
   ],
   "source": [
    "import numpy as np\n",
    "\n",
    "try:\n",
    "    print(np.roots([2, -12, 3]))\n",
    "except:\n",
    "    print('nothing found')\n",
    "print(16*4)"
   ]
  },
  {
   "cell_type": "code",
   "execution_count": 5,
   "metadata": {},
   "outputs": [
    {
     "name": "stdout",
     "output_type": "stream",
     "text": [
      "36.0\n",
      "-36\n"
     ]
    }
   ],
   "source": [
    "import numpy as np\n",
    "print(np.sqrt(1296))\n",
    "print(469-441-64)"
   ]
  },
  {
   "cell_type": "code",
   "execution_count": null,
   "metadata": {},
   "outputs": [],
   "source": []
  }
 ],
 "metadata": {
  "kernelspec": {
   "display_name": "Python 3",
   "language": "python",
   "name": "python3"
  },
  "language_info": {
   "codemirror_mode": {
    "name": "ipython",
    "version": 3
   },
   "file_extension": ".py",
   "mimetype": "text/x-python",
   "name": "python",
   "nbconvert_exporter": "python",
   "pygments_lexer": "ipython3",
   "version": "3.7.3"
  }
 },
 "nbformat": 4,
 "nbformat_minor": 2
}
